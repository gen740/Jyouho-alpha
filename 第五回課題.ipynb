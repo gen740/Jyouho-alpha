{
 "nbformat": 4,
 "nbformat_minor": 0,
 "metadata": {
  "kernelspec": {
   "display_name": "Python 3",
   "language": "python",
   "name": "python3"
  },
  "language_info": {
   "codemirror_mode": {
    "name": "ipython",
    "version": 2
   },
   "file_extension": ".py",
   "mimetype": "text/x-python",
   "name": "python",
   "nbconvert_exporter": "python",
   "pygments_lexer": "ipython2",
   "version": "2.7.6"
  },
  "pycharm": {
   "stem_cell": {
    "cell_type": "raw",
    "source": [],
    "metadata": {
     "collapsed": false
    }
   }
  },
  "colab": {
   "name": "第五回課題.ipynb",
   "provenance": []
  }
 },
 "cells": [
  {
   "cell_type": "code",
   "metadata": {
    "collapsed": true,
    "pycharm": {
     "is_executing": false
    },
    "id": "R23TrOybLhI_",
    "colab_type": "code",
    "colab": {
     "base_uri": "https://localhost:8080/",
     "height": 430
    },
    "outputId": "e03da5fb-1ff1-405b-a0ac-57284de1f8cd"
   },
   "source": [
    "# Is this saved?\n",
    "import platform\n",
    "if platform.system() == \"Darwin\": \n",
    "    import os\n",
    "    os.environ[\"KERAS_BACKEND\"] = \"plaidml.keras.backend\"\n",
    "import keras\n",
    "from keras.datasets import cifar10\n",
    "from keras.preprocessing.image import ImageDataGenerator\n",
    "from keras.models import Sequential\n",
    "from keras.layers import Dense, Dropout, Activation, Flatten\n",
    "from keras.layers import Conv2D, MaxPooling2D\n",
    "\n",
    "\n",
    "(x_train, y_train), (x_test, y_test) = cifar10.load_data()\n",
    "\n",
    "\n",
    "datagen = ImageDataGenerator()\n"
   ],
   "execution_count": 2,
   "outputs": [
    {
     "name": "stderr",
     "text": [
      "Using plaidml.keras.backend backend.\n"
     ],
     "output_type": "stream"
    }
   ]
  },
  {
   "cell_type": "code",
   "metadata": {
    "id": "yFES4W7eMJv3",
    "colab_type": "code",
    "colab": {
     "base_uri": "https://localhost:8080/",
     "height": 34
    },
    "outputId": "d5ccb3c3-bdf1-40aa-b806-b05c9093fa5e",
    "pycharm": {
     "is_executing": false
    }
   },
   "source": [
    "import platform\n",
    "\n",
    "print(platform.system() == \"Darwin\")"
   ],
   "execution_count": 3,
   "outputs": [
    {
     "name": "stdout",
     "text": [
      "True\n"
     ],
     "output_type": "stream"
    }
   ]
  }
 ]
}