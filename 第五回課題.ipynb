{
  "nbformat": 4,
  "nbformat_minor": 0,
  "metadata": {
    "kernelspec": {
      "display_name": "Python 3",
      "language": "python",
      "name": "python3"
    },
    "language_info": {
      "codemirror_mode": {
        "name": "ipython",
        "version": 2
      },
      "file_extension": ".py",
      "mimetype": "text/x-python",
      "name": "python",
      "nbconvert_exporter": "python",
      "pygments_lexer": "ipython2",
      "version": "2.7.6"
    },
    "pycharm": {
      "stem_cell": {
        "cell_type": "raw",
        "source": [],
        "metadata": {
          "collapsed": false
        }
      }
    },
    "colab": {
      "name": "第五回課題.ipynb",
      "provenance": []
    },
    "accelerator": "GPU"
  },
  "cells": [
    {
      "cell_type": "code",
      "metadata": {
        "pycharm": {
          "is_executing": false,
          "name": "#%%\n"
        },
        "id": "R23TrOybLhI_",
        "colab_type": "code",
        "outputId": "828fbb60-8a10-434c-a8fb-327a93348e80",
        "colab": {
          "base_uri": "https://localhost:8080/",
          "height": 34
        }
      },
      "source": [
        "# Is this saved?\n",
        "import platform\n",
        "if platform.system() == \"Darwin\": \n",
        "  import os\n",
        "  os.environ[\"KERAS_BACKEND\"] = \"plaidml.keras.backend\"\n",
        "import keras\n",
        "from keras.datasets import cifar10\n",
        "from keras.preprocessing.image import ImageDataGenerator\n",
        "from keras.models import Sequential\n",
        "from keras.layers import Input, Dense, Dropout, Activation, Flatten\n",
        "from keras.layers import Conv2D, MaxPooling2D\n",
        "from keras.utils import to_categorical\n"
      ],
      "execution_count": 1,
      "outputs": [
        {
          "output_type": "stream",
          "text": [
            "Using TensorFlow backend.\n"
          ],
          "name": "stderr"
        }
      ]
    },
    {
      "cell_type": "code",
      "metadata": {
        "pycharm": {
          "name": "#%%\n",
          "is_executing": false
        },
        "id": "wVqLRgidXAzY",
        "colab_type": "code",
        "colab": {
          "base_uri": "https://localhost:8080/",
          "height": 51
        },
        "outputId": "ff79baaf-0b84-4b6b-b7af-2eff573e3bb0"
      },
      "source": [
        "(x_train, y_train), (x_test, y_test) = cifar10.load_data()\n",
        "datagen = ImageDataGenerator(\n",
        "    featurewise_center=True,\n",
        "    featurewise_std_normalization=True,\n",
        "    rotation_range=20,\n",
        "    width_shift_range=0.2,\n",
        "    height_shift_range=0.2,\n",
        "    horizontal_flip=True)\n",
        "x_train = x_train / 255\n",
        "x_test = x_test / 255\n",
        "y_train = to_categorical(y_train)\n",
        "y_test = to_categorical(y_test)\n"
      ],
      "execution_count": 2,
      "outputs": [
        {
          "output_type": "stream",
          "text": [
            "Downloading data from https://www.cs.toronto.edu/~kriz/cifar-10-python.tar.gz\n",
            "170500096/170498071 [==============================] - 2s 0us/step\n"
          ],
          "name": "stdout"
        }
      ]
    },
    {
      "cell_type": "code",
      "metadata": {
        "pycharm": {
          "name": "#%%\n",
          "is_executing": false
        },
        "id": "ZbHINcFuXAzg",
        "colab_type": "code",
        "colab": {}
      },
      "source": [
        "inputs = Input((32, 32, 3))\n",
        "x = Conv2D(128, 2, activation='relu')(inputs)\n",
        "x = MaxPooling2D(2, 2)(x)\n",
        "x = Dropout(0.1)(x)\n",
        "x = Conv2D(256, 2, activation='relu')(x)\n",
        "x = MaxPooling2D(2, 2)(x)\n",
        "x = Dropout(0.1)(x)\n",
        "x = Conv2D(512, 2, activation='relu')(x)\n",
        "x = MaxPooling2D(2, 2)(x)\n",
        "x = Dropout(0.1)(x)\n",
        "x = Conv2D(1024, 2, activation='relu')(x)\n",
        "x = MaxPooling2D(2, 2)(x)\n",
        "x = Flatten()(x)\n",
        "output = Dense(10, activation='softmax')(x)\n"
      ],
      "execution_count": 0,
      "outputs": []
    },
    {
      "cell_type": "code",
      "metadata": {
        "pycharm": {
          "name": "#%%\n",
          "is_executing": false
        },
        "id": "pDaZ38xrXAzl",
        "colab_type": "code",
        "colab": {
          "base_uri": "https://localhost:8080/",
          "height": 714
        },
        "outputId": "723376f3-eb5a-464d-cfa9-d6917a1f07e7"
      },
      "source": [
        "model = keras.Model(inputs, output)\n",
        "model.compile(\n",
        "    loss='categorical_crossentropy', #ここでクロスエントロピーを指定\n",
        "    optimizer=keras.optimizers.Adam(), #学習アルゴリズムにAdamを指定\n",
        "    metrics=[\"accuracy\"], \n",
        ")\n",
        "epochs = 20 #エポック数（全データを概ねチェックして更新する回数）を指定\n",
        "history = model.fit(x_train, y_train, batch_size=50, epochs=epochs, verbose=1, validation_split=0.2)\n"
      ],
      "execution_count": 21,
      "outputs": [
        {
          "output_type": "stream",
          "text": [
            "Train on 40000 samples, validate on 10000 samples\n",
            "Epoch 1/20\n",
            "40000/40000 [==============================] - 11s 276us/step - loss: 1.5871 - accuracy: 0.4132 - val_loss: 1.3004 - val_accuracy: 0.5299\n",
            "Epoch 2/20\n",
            "40000/40000 [==============================] - 11s 271us/step - loss: 1.1537 - accuracy: 0.5897 - val_loss: 1.1000 - val_accuracy: 0.6105\n",
            "Epoch 3/20\n",
            "40000/40000 [==============================] - 11s 266us/step - loss: 0.9574 - accuracy: 0.6629 - val_loss: 0.9068 - val_accuracy: 0.6818\n",
            "Epoch 4/20\n",
            "40000/40000 [==============================] - 11s 266us/step - loss: 0.8083 - accuracy: 0.7149 - val_loss: 0.8161 - val_accuracy: 0.7169\n",
            "Epoch 5/20\n",
            "40000/40000 [==============================] - 11s 266us/step - loss: 0.6980 - accuracy: 0.7570 - val_loss: 0.7757 - val_accuracy: 0.7341\n",
            "Epoch 6/20\n",
            "40000/40000 [==============================] - 11s 267us/step - loss: 0.6078 - accuracy: 0.7856 - val_loss: 0.7316 - val_accuracy: 0.7532\n",
            "Epoch 7/20\n",
            "40000/40000 [==============================] - 11s 267us/step - loss: 0.5188 - accuracy: 0.8183 - val_loss: 0.7413 - val_accuracy: 0.7503\n",
            "Epoch 8/20\n",
            "40000/40000 [==============================] - 11s 266us/step - loss: 0.4480 - accuracy: 0.8435 - val_loss: 0.7432 - val_accuracy: 0.7567\n",
            "Epoch 9/20\n",
            "40000/40000 [==============================] - 11s 267us/step - loss: 0.3799 - accuracy: 0.8652 - val_loss: 0.7555 - val_accuracy: 0.7621\n",
            "Epoch 10/20\n",
            "40000/40000 [==============================] - 11s 265us/step - loss: 0.3267 - accuracy: 0.8849 - val_loss: 0.7913 - val_accuracy: 0.7547\n",
            "Epoch 11/20\n",
            "40000/40000 [==============================] - 11s 266us/step - loss: 0.2840 - accuracy: 0.8983 - val_loss: 0.9111 - val_accuracy: 0.7453\n",
            "Epoch 12/20\n",
            "40000/40000 [==============================] - 11s 266us/step - loss: 0.2534 - accuracy: 0.9107 - val_loss: 0.8741 - val_accuracy: 0.7597\n",
            "Epoch 13/20\n",
            "40000/40000 [==============================] - 11s 266us/step - loss: 0.2248 - accuracy: 0.9208 - val_loss: 0.9113 - val_accuracy: 0.7585\n",
            "Epoch 14/20\n",
            "40000/40000 [==============================] - 11s 267us/step - loss: 0.2028 - accuracy: 0.9291 - val_loss: 0.9211 - val_accuracy: 0.7604\n",
            "Epoch 15/20\n",
            "40000/40000 [==============================] - 11s 266us/step - loss: 0.1806 - accuracy: 0.9351 - val_loss: 0.9922 - val_accuracy: 0.7520\n",
            "Epoch 16/20\n",
            "40000/40000 [==============================] - 11s 268us/step - loss: 0.1760 - accuracy: 0.9376 - val_loss: 1.0524 - val_accuracy: 0.7500\n",
            "Epoch 17/20\n",
            "40000/40000 [==============================] - 11s 264us/step - loss: 0.1571 - accuracy: 0.9445 - val_loss: 1.0912 - val_accuracy: 0.7482\n",
            "Epoch 18/20\n",
            "40000/40000 [==============================] - 11s 267us/step - loss: 0.1531 - accuracy: 0.9456 - val_loss: 1.0780 - val_accuracy: 0.7506\n",
            "Epoch 19/20\n",
            "40000/40000 [==============================] - 11s 266us/step - loss: 0.1514 - accuracy: 0.9476 - val_loss: 1.1071 - val_accuracy: 0.7548\n",
            "Epoch 20/20\n",
            "40000/40000 [==============================] - 11s 267us/step - loss: 0.1408 - accuracy: 0.9510 - val_loss: 1.1951 - val_accuracy: 0.7438\n"
          ],
          "name": "stdout"
        }
      ]
    }
  ]
}