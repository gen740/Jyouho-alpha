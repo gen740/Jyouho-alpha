{
  "nbformat": 4,
  "nbformat_minor": 0,
  "metadata": {
    "kernelspec": {
      "display_name": "Python 3",
      "language": "python",
      "name": "python3"
    },
    "language_info": {
      "codemirror_mode": {
        "name": "ipython",
        "version": 2
      },
      "file_extension": ".py",
      "mimetype": "text/x-python",
      "name": "python",
      "nbconvert_exporter": "python",
      "pygments_lexer": "ipython2",
      "version": "2.7.6"
    },
    "pycharm": {
      "stem_cell": {
        "cell_type": "raw",
        "source": [],
        "metadata": {
          "collapsed": false
        }
      }
    },
    "colab": {
      "name": "第五回課題.ipynb",
      "provenance": []
    },
    "accelerator": "GPU"
  },
  "cells": [
    {
      "cell_type": "code",
      "metadata": {
        "pycharm": {
          "is_executing": false,
          "name": "#%%\n"
        },
        "id": "R23TrOybLhI_",
        "colab_type": "code",
        "colab": {}
      },
      "source": [
        "# Is this saved?\n",
        "import platform\n",
        "if platform.system() == \"Darwin\": \n",
        "  import os\n",
        "  os.environ[\"KERAS_BACKEND\"] = \"plaidml.keras.backend\"\n",
        "import keras\n",
        "from keras.datasets import cifar10\n",
        "from keras.preprocessing.image import ImageDataGenerator\n",
        "from keras.models import Sequential\n",
        "from keras.layers import Input, Dense, Dropout, Activation, Flatten\n",
        "from keras.layers import Conv2D, MaxPooling2D\n",
        "from keras.utils import to_categorical\n"
      ],
      "execution_count": 0,
      "outputs": []
    },
    {
      "cell_type": "code",
      "metadata": {
        "pycharm": {
          "name": "#%%\n",
          "is_executing": false
        },
        "id": "wVqLRgidXAzY",
        "colab_type": "code",
        "colab": {}
      },
      "source": [
        "(x_train, y_train), (x_test, y_test) = cifar10.load_data()\n",
        "datagen = ImageDataGenerator(\n",
        "    featurewise_center=True,\n",
        "    featurewise_std_normalization=True,\n",
        "    rotation_range=40,\n",
        "    width_shift_range=0.15,\n",
        "    height_shift_range=0.15,\n",
        "    horizontal_flip=True)\n",
        "val_datagen = ImageDataGenerator(\n",
        "    featurewise_center=True,\n",
        "    featurewise_std_normalization=True,\n",
        "    rotation_range=20,\n",
        "    width_shift_range=0.15,\n",
        "    height_shift_range=0.15,\n",
        "    horizontal_flip=True)\n",
        "x_train = x_train / 255\n",
        "x_test = x_test / 255\n",
        "y_train = to_categorical(y_train)\n",
        "y_test = to_categorical(y_test)\n"
      ],
      "execution_count": 0,
      "outputs": []
    },
    {
      "cell_type": "code",
      "metadata": {
        "pycharm": {
          "name": "#%%\n",
          "is_executing": false
        },
        "id": "ZbHINcFuXAzg",
        "colab_type": "code",
        "colab": {}
      },
      "source": [
        "inputs = Input((32, 32, 3))\n",
        "x = Conv2D(256, 2, activation='relu')(inputs)\n",
        "x = MaxPooling2D(2, 2)(x)\n",
        "x = Dropout(0.1)(x)\n",
        "x = Conv2D(512, 2, activation='relu')(x)\n",
        "x = MaxPooling2D(2, 2)(x)\n",
        "x = Dropout(0.1)(x)\n",
        "x = Conv2D(1024, 2, activation='relu')(x)\n",
        "x = Dropout(0.1)(x)\n",
        "x = Flatten()(x)\n",
        "output = Dense(10, activation='softmax')(x)\n"
      ],
      "execution_count": 0,
      "outputs": []
    },
    {
      "cell_type": "code",
      "metadata": {
        "pycharm": {
          "name": "#%%\n",
          "is_executing": false
        },
        "id": "pDaZ38xrXAzl",
        "colab_type": "code",
        "outputId": "67607b53-e1bf-4c7d-9b1d-6b86c0808f34",
        "colab": {
          "base_uri": "https://localhost:8080/",
          "height": 1000
        }
      },
      "source": [
        "model = keras.Model(inputs, output)\n",
        "model.compile(\n",
        "    loss='categorical_crossentropy', #ここでクロスエントロピーを指定\n",
        "    optimizer=keras.optimizers.Adam(), #学習アルゴリズムにAdamを指定\n",
        "    metrics=[\"accuracy\"], \n",
        ")\n",
        "epochs = 50 #エポック数（全データを概ねチェックして更新する回数）を指定\n",
        "history = model.fit_generator(datagen.flow(x_train, y_train, batch_size=50), epochs=epochs, verbose=1, validation_data=val_datagen.flow(x_test, y_test))\n"
      ],
      "execution_count": 42,
      "outputs": [
        {
          "output_type": "stream",
          "text": [
            "Epoch 1/50\n"
          ],
          "name": "stdout"
        },
        {
          "output_type": "stream",
          "text": [
            "/usr/local/lib/python3.6/dist-packages/keras_preprocessing/image/image_data_generator.py:720: UserWarning: This ImageDataGenerator specifies `featurewise_center`, but it hasn't been fit on any training data. Fit it first by calling `.fit(numpy_data)`.\n",
            "  warnings.warn('This ImageDataGenerator specifies '\n",
            "/usr/local/lib/python3.6/dist-packages/keras_preprocessing/image/image_data_generator.py:728: UserWarning: This ImageDataGenerator specifies `featurewise_std_normalization`, but it hasn't been fit on any training data. Fit it first by calling `.fit(numpy_data)`.\n",
            "  warnings.warn('This ImageDataGenerator specifies '\n"
          ],
          "name": "stderr"
        },
        {
          "output_type": "stream",
          "text": [
            "1000/1000 [==============================] - 33s 33ms/step - loss: 1.6576 - accuracy: 0.3981 - val_loss: 1.2564 - val_accuracy: 0.4933\n",
            "Epoch 2/50\n",
            "1000/1000 [==============================] - 32s 32ms/step - loss: 1.3708 - accuracy: 0.5090 - val_loss: 1.2262 - val_accuracy: 0.5697\n",
            "Epoch 3/50\n",
            "1000/1000 [==============================] - 32s 32ms/step - loss: 1.2535 - accuracy: 0.5533 - val_loss: 1.5623 - val_accuracy: 0.5725\n",
            "Epoch 4/50\n",
            "1000/1000 [==============================] - 32s 32ms/step - loss: 1.1836 - accuracy: 0.5776 - val_loss: 1.3906 - val_accuracy: 0.6050\n",
            "Epoch 5/50\n",
            "1000/1000 [==============================] - 32s 32ms/step - loss: 1.1312 - accuracy: 0.5997 - val_loss: 1.0712 - val_accuracy: 0.6381\n",
            "Epoch 6/50\n",
            "1000/1000 [==============================] - 32s 32ms/step - loss: 1.0792 - accuracy: 0.6188 - val_loss: 1.0690 - val_accuracy: 0.6356\n",
            "Epoch 7/50\n",
            "1000/1000 [==============================] - 32s 32ms/step - loss: 1.0447 - accuracy: 0.6285 - val_loss: 1.0314 - val_accuracy: 0.6593\n",
            "Epoch 8/50\n",
            "1000/1000 [==============================] - 32s 32ms/step - loss: 1.0099 - accuracy: 0.6497 - val_loss: 0.8428 - val_accuracy: 0.6604\n",
            "Epoch 9/50\n",
            "1000/1000 [==============================] - 32s 32ms/step - loss: 0.9935 - accuracy: 0.6511 - val_loss: 1.0226 - val_accuracy: 0.6722\n",
            "Epoch 10/50\n",
            "1000/1000 [==============================] - 32s 32ms/step - loss: 0.9634 - accuracy: 0.6619 - val_loss: 0.5875 - val_accuracy: 0.6813\n",
            "Epoch 11/50\n",
            "1000/1000 [==============================] - 32s 32ms/step - loss: 0.9508 - accuracy: 0.6662 - val_loss: 0.7864 - val_accuracy: 0.6847\n",
            "Epoch 12/50\n",
            "1000/1000 [==============================] - 32s 32ms/step - loss: 0.9301 - accuracy: 0.6744 - val_loss: 1.1246 - val_accuracy: 0.6776\n",
            "Epoch 13/50\n",
            "1000/1000 [==============================] - 32s 32ms/step - loss: 0.9151 - accuracy: 0.6798 - val_loss: 0.8447 - val_accuracy: 0.6840\n",
            "Epoch 14/50\n",
            "1000/1000 [==============================] - 32s 32ms/step - loss: 0.9028 - accuracy: 0.6843 - val_loss: 0.6569 - val_accuracy: 0.6975\n",
            "Epoch 15/50\n",
            "1000/1000 [==============================] - 32s 32ms/step - loss: 0.8905 - accuracy: 0.6914 - val_loss: 0.5292 - val_accuracy: 0.6925\n",
            "Epoch 16/50\n",
            "1000/1000 [==============================] - 32s 32ms/step - loss: 0.8788 - accuracy: 0.6920 - val_loss: 0.5769 - val_accuracy: 0.7078\n",
            "Epoch 17/50\n",
            "1000/1000 [==============================] - 32s 32ms/step - loss: 0.8722 - accuracy: 0.6946 - val_loss: 1.5984 - val_accuracy: 0.7073\n",
            "Epoch 18/50\n",
            "1000/1000 [==============================] - 32s 32ms/step - loss: 0.8638 - accuracy: 0.6969 - val_loss: 1.0423 - val_accuracy: 0.7120\n",
            "Epoch 19/50\n",
            "1000/1000 [==============================] - 32s 32ms/step - loss: 0.8579 - accuracy: 0.7006 - val_loss: 0.8911 - val_accuracy: 0.7094\n",
            "Epoch 20/50\n",
            "1000/1000 [==============================] - 32s 32ms/step - loss: 0.8467 - accuracy: 0.7072 - val_loss: 0.6914 - val_accuracy: 0.7153\n",
            "Epoch 21/50\n",
            "1000/1000 [==============================] - 32s 32ms/step - loss: 0.8372 - accuracy: 0.7086 - val_loss: 1.0244 - val_accuracy: 0.6887\n",
            "Epoch 22/50\n",
            "1000/1000 [==============================] - 32s 32ms/step - loss: 0.8314 - accuracy: 0.7081 - val_loss: 1.0276 - val_accuracy: 0.7265\n",
            "Epoch 23/50\n",
            "1000/1000 [==============================] - 32s 32ms/step - loss: 0.8226 - accuracy: 0.7123 - val_loss: 0.6955 - val_accuracy: 0.7226\n",
            "Epoch 24/50\n",
            "1000/1000 [==============================] - 32s 32ms/step - loss: 0.8233 - accuracy: 0.7133 - val_loss: 1.2761 - val_accuracy: 0.7290\n",
            "Epoch 25/50\n",
            "1000/1000 [==============================] - 32s 32ms/step - loss: 0.8114 - accuracy: 0.7147 - val_loss: 0.9421 - val_accuracy: 0.7274\n",
            "Epoch 26/50\n",
            "1000/1000 [==============================] - 32s 32ms/step - loss: 0.8101 - accuracy: 0.7185 - val_loss: 1.2335 - val_accuracy: 0.7186\n",
            "Epoch 27/50\n",
            "1000/1000 [==============================] - 32s 32ms/step - loss: 0.8058 - accuracy: 0.7190 - val_loss: 0.7858 - val_accuracy: 0.7253\n",
            "Epoch 28/50\n",
            "1000/1000 [==============================] - 32s 32ms/step - loss: 0.8071 - accuracy: 0.7203 - val_loss: 0.6756 - val_accuracy: 0.7256\n",
            "Epoch 29/50\n",
            "1000/1000 [==============================] - 32s 32ms/step - loss: 0.7947 - accuracy: 0.7252 - val_loss: 0.7080 - val_accuracy: 0.7336\n",
            "Epoch 30/50\n",
            "1000/1000 [==============================] - 32s 32ms/step - loss: 0.7942 - accuracy: 0.7223 - val_loss: 0.6397 - val_accuracy: 0.7401\n",
            "Epoch 31/50\n",
            "1000/1000 [==============================] - 32s 32ms/step - loss: 0.7858 - accuracy: 0.7261 - val_loss: 0.8166 - val_accuracy: 0.7247\n",
            "Epoch 32/50\n",
            "1000/1000 [==============================] - 32s 32ms/step - loss: 0.7874 - accuracy: 0.7264 - val_loss: 0.6888 - val_accuracy: 0.7357\n",
            "Epoch 33/50\n",
            "1000/1000 [==============================] - 32s 32ms/step - loss: 0.7838 - accuracy: 0.7276 - val_loss: 1.4062 - val_accuracy: 0.7443\n",
            "Epoch 34/50\n",
            "1000/1000 [==============================] - 32s 32ms/step - loss: 0.7699 - accuracy: 0.7299 - val_loss: 0.2288 - val_accuracy: 0.7292\n",
            "Epoch 35/50\n",
            "1000/1000 [==============================] - 32s 32ms/step - loss: 0.7736 - accuracy: 0.7289 - val_loss: 0.9851 - val_accuracy: 0.7362\n",
            "Epoch 36/50\n",
            "1000/1000 [==============================] - 32s 32ms/step - loss: 0.7703 - accuracy: 0.7320 - val_loss: 1.0815 - val_accuracy: 0.7353\n",
            "Epoch 37/50\n",
            "1000/1000 [==============================] - 32s 32ms/step - loss: 0.7680 - accuracy: 0.7325 - val_loss: 0.2523 - val_accuracy: 0.7478\n",
            "Epoch 38/50\n",
            "1000/1000 [==============================] - 32s 32ms/step - loss: 0.7672 - accuracy: 0.7311 - val_loss: 0.4236 - val_accuracy: 0.7339\n",
            "Epoch 39/50\n",
            "1000/1000 [==============================] - 32s 32ms/step - loss: 0.7639 - accuracy: 0.7328 - val_loss: 1.0082 - val_accuracy: 0.7368\n",
            "Epoch 40/50\n",
            "1000/1000 [==============================] - 32s 32ms/step - loss: 0.7602 - accuracy: 0.7347 - val_loss: 0.4808 - val_accuracy: 0.7441\n",
            "Epoch 41/50\n",
            "1000/1000 [==============================] - 32s 32ms/step - loss: 0.7576 - accuracy: 0.7359 - val_loss: 0.6029 - val_accuracy: 0.7427\n",
            "Epoch 42/50\n",
            "1000/1000 [==============================] - 32s 32ms/step - loss: 0.7573 - accuracy: 0.7343 - val_loss: 0.3530 - val_accuracy: 0.7421\n",
            "Epoch 43/50\n",
            "1000/1000 [==============================] - 32s 32ms/step - loss: 0.7516 - accuracy: 0.7369 - val_loss: 1.3393 - val_accuracy: 0.7451\n",
            "Epoch 44/50\n",
            "1000/1000 [==============================] - 32s 32ms/step - loss: 0.7483 - accuracy: 0.7393 - val_loss: 0.6928 - val_accuracy: 0.7345\n",
            "Epoch 45/50\n",
            "1000/1000 [==============================] - 32s 32ms/step - loss: 0.7477 - accuracy: 0.7385 - val_loss: 0.7375 - val_accuracy: 0.7410\n",
            "Epoch 46/50\n",
            "1000/1000 [==============================] - 32s 32ms/step - loss: 0.7531 - accuracy: 0.7385 - val_loss: 0.8345 - val_accuracy: 0.7446\n",
            "Epoch 47/50\n",
            "1000/1000 [==============================] - 32s 32ms/step - loss: 0.7428 - accuracy: 0.7427 - val_loss: 0.9703 - val_accuracy: 0.7456\n",
            "Epoch 48/50\n",
            "1000/1000 [==============================] - 32s 32ms/step - loss: 0.7470 - accuracy: 0.7383 - val_loss: 0.6374 - val_accuracy: 0.7387\n",
            "Epoch 49/50\n",
            "1000/1000 [==============================] - 32s 32ms/step - loss: 0.7404 - accuracy: 0.7421 - val_loss: 0.6533 - val_accuracy: 0.7420\n",
            "Epoch 50/50\n",
            "1000/1000 [==============================] - 32s 32ms/step - loss: 0.7404 - accuracy: 0.7422 - val_loss: 0.8949 - val_accuracy: 0.7386\n"
          ],
          "name": "stdout"
        }
      ]
    }
  ]
}