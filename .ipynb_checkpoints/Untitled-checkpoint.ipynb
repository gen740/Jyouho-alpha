{
 "cells": [
  {
   "cell_type": "code",
   "execution_count": 27,
   "metadata": {},
   "outputs": [
    {
     "name": "stdout",
     "output_type": "stream",
     "text": [
      "Epoch 1/10\n",
      "20000/20000 [==============================] - 9s 448us/step - loss: 0.0126 - accuracy: 0.2497\n",
      "Epoch 2/10\n",
      "20000/20000 [==============================] - 9s 436us/step - loss: 0.0116 - accuracy: 0.3818\n",
      "Epoch 3/10\n",
      "20000/20000 [==============================] - 9s 437us/step - loss: 0.0115 - accuracy: 0.4900\n",
      "Epoch 4/10\n",
      "20000/20000 [==============================] - 9s 438us/step - loss: 0.0115 - accuracy: 0.4895\n",
      "Epoch 5/10\n",
      "20000/20000 [==============================] - 9s 438us/step - loss: 0.0115 - accuracy: 0.4918\n",
      "Epoch 6/10\n",
      "20000/20000 [==============================] - 9s 439us/step - loss: 0.0115 - accuracy: 0.5300\n",
      "Epoch 7/10\n",
      "20000/20000 [==============================] - 9s 441us/step - loss: 0.0115 - accuracy: 0.5188\n",
      "Epoch 8/10\n",
      "20000/20000 [==============================] - 9s 440us/step - loss: 0.0115 - accuracy: 0.5351\n",
      "Epoch 9/10\n",
      "20000/20000 [==============================] - 9s 441us/step - loss: 0.0115 - accuracy: 0.5261\n",
      "Epoch 10/10\n",
      "20000/20000 [==============================] - 9s 440us/step - loss: 0.0115 - accuracy: 0.5271\n",
      "テスト損失: 0.011496919959504158\n",
      "テスト精度（正答率）: 0.5234500169754028\n"
     ]
    },
    {
     "ename": "KeyError",
     "evalue": "'val_loss'",
     "output_type": "error",
     "traceback": [
      "\u001b[0;31m---------------------------------------------------------------------------\u001b[0m",
      "\u001b[0;31mKeyError\u001b[0m                                  Traceback (most recent call last)",
      "\u001b[0;32m<ipython-input-27-d7f8738a37d3>\u001b[0m in \u001b[0;36m<module>\u001b[0;34m\u001b[0m\n\u001b[1;32m     47\u001b[0m \u001b[0;34m\u001b[0m\u001b[0m\n\u001b[1;32m     48\u001b[0m \u001b[0mloss\u001b[0m \u001b[0;34m=\u001b[0m \u001b[0mhistory\u001b[0m\u001b[0;34m.\u001b[0m\u001b[0mhistory\u001b[0m\u001b[0;34m[\u001b[0m\u001b[0;34m'loss'\u001b[0m\u001b[0;34m]\u001b[0m\u001b[0;34m\u001b[0m\u001b[0;34m\u001b[0m\u001b[0m\n\u001b[0;32m---> 49\u001b[0;31m \u001b[0mval_loss\u001b[0m \u001b[0;34m=\u001b[0m \u001b[0mhistory\u001b[0m\u001b[0;34m.\u001b[0m\u001b[0mhistory\u001b[0m\u001b[0;34m[\u001b[0m\u001b[0;34m'val_loss'\u001b[0m\u001b[0;34m]\u001b[0m\u001b[0;34m\u001b[0m\u001b[0;34m\u001b[0m\u001b[0m\n\u001b[0m\u001b[1;32m     50\u001b[0m \u001b[0macc\u001b[0m \u001b[0;34m=\u001b[0m \u001b[0mhistory\u001b[0m\u001b[0;34m.\u001b[0m\u001b[0mhistory\u001b[0m\u001b[0;34m[\u001b[0m\u001b[0;34m'accuracy'\u001b[0m\u001b[0;34m]\u001b[0m\u001b[0;34m\u001b[0m\u001b[0;34m\u001b[0m\u001b[0m\n\u001b[1;32m     51\u001b[0m \u001b[0mval_acc\u001b[0m \u001b[0;34m=\u001b[0m \u001b[0mhistory\u001b[0m\u001b[0;34m.\u001b[0m\u001b[0mhistory\u001b[0m\u001b[0;34m[\u001b[0m\u001b[0;34m'val_accuracy'\u001b[0m\u001b[0;34m]\u001b[0m\u001b[0;34m\u001b[0m\u001b[0;34m\u001b[0m\u001b[0m\n",
      "\u001b[0;31mKeyError\u001b[0m: 'val_loss'"
     ]
    }
   ],
   "source": [
    "import platform\n",
    "if platform.system() == \"Darwin\":  # google colabo でやるか自分のPCでやっているかの判定\n",
    "    import os\n",
    "    os.environ[\"KERAS_BACKEND\"] = \"plaidml.keras.backend\"\n",
    "import keras\n",
    "from keras.layers import Input, Dense, Dropout, Activation, Flatten, BatchNormalization, GlobalAveragePooling2D\n",
    "from keras.layers import Conv2D, MaxPooling2D\n",
    "from keras.utils import to_categorical\n",
    "import matplotlib.pyplot as plt\n",
    "import numpy as np\n",
    "import tensorflow as tf\n",
    "\n",
    "x_test, y_test = np.loadtxt(\"./TBP_sim/build/data_for_learning/initial_value.csv\",\n",
    "        delimiter=\" \"), \\\n",
    "                 np.loadtxt(\"./TBP_sim/build/data_for_learning/forward_step_data.csv\",\n",
    "                         delimiter=\" \")\n",
    "x_test = x_test/2\n",
    "y_test = y_test/2\n",
    "\n",
    "inputs = Input(shape=(15,))\n",
    "inputs = tf.cast(inputs, tf.float32)\n",
    "x = Dense(2000, activation='tanh')(inputs)\n",
    "x = Dense(4000, activation='tanh')(x)\n",
    "x = Dense(5000, activation='tanh')(x)\n",
    "x = Dense(4000, activation='tanh')(x)\n",
    "x = Dense(2000, activation='tanh')(x)\n",
    "x = Dense(1000, activation='tanh')(x)\n",
    "output = Dense(120, activation='tanh')(x)\n",
    "\n",
    "model = keras.Model(inputs, output)\n",
    "model.compile(\n",
    "    loss='mean_squared_error',\n",
    "    optimizer=keras.optimizers.Adam(lr=0.0003, beta_1=0.99, beta_2=0.999, decay=0.4),\n",
    "    metrics=[\"accuracy\"],\n",
    ")\n",
    "\n",
    "keras.utils.plot_model(model,\n",
    "                       show_shapes=True,\n",
    "                       show_layer_names=True)\n",
    "\n",
    "epochs = 10\n",
    "history = model.fit(x_test, y_test, batch_size=100, epochs=epochs, verbose=1)\n",
    "\n",
    "test_scores = model.evaluate(x_test, y_test, verbose=2)\n",
    "print(\"テスト損失:\", test_scores[0])\n",
    "print(\"テスト精度（正答率）:\", test_scores[1])\n",
    "\n",
    "loss = history.history['loss']\n",
    "val_loss = history.history['val_loss']\n",
    "acc = history.history['accuracy']\n",
    "val_acc = history.history['val_accuracy']\n",
    "\n"
   ]
  },
  {
   "cell_type": "code",
   "execution_count": null,
   "metadata": {},
   "outputs": [],
   "source": []
  },
  {
   "cell_type": "code",
   "execution_count": null,
   "metadata": {},
   "outputs": [],
   "source": []
  }
 ],
 "metadata": {
  "environment": {
   "name": "tf2-2-2-gpu.2-2.m50",
   "type": "gcloud",
   "uri": "gcr.io/deeplearning-platform-release/tf2-2-2-gpu.2-2:m50"
  },
  "kernelspec": {
   "display_name": "Python 3",
   "language": "python",
   "name": "python3"
  },
  "language_info": {
   "codemirror_mode": {
    "name": "ipython",
    "version": 3
   },
   "file_extension": ".py",
   "mimetype": "text/x-python",
   "name": "python",
   "nbconvert_exporter": "python",
   "pygments_lexer": "ipython3",
   "version": "3.7.6"
  }
 },
 "nbformat": 4,
 "nbformat_minor": 4
}
