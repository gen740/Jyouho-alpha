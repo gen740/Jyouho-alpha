import os
os.environ["KERAS_BACKEND"] = "plaidml.keras.backend"
import keras
from keras.datasets import cifar10
from keras.preprocessing.image import ImageDataGenerator
from keras.models import Sequential
from keras.layers import Dense, Dropout, Activation, Flatten
from keras.layers import Conv2D, MaxPooling2D


(x_train, y_train), (x_test, y_test) = cifar10.load_data()


datagen = ImageDataGenerator()